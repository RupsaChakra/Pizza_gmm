{
 "cells": [
  {
   "cell_type": "code",
   "execution_count": 1,
   "id": "f70d4ad2",
   "metadata": {},
   "outputs": [],
   "source": [
    "import os"
   ]
  },
  {
   "cell_type": "code",
   "execution_count": 8,
   "id": "a3c9725d",
   "metadata": {},
   "outputs": [
    {
     "name": "stdout",
     "output_type": "stream",
     "text": [
      "coco\t      config.pyc    pizza_dataset_prep.ipynb  scripts\n",
      "coco_eval.py  __init__.py   __pycache__\t\t      voc0712.py\n",
      "coco.py       __init__.pyc  realpizza\t\t      voc0712.pyc\n",
      "config.py     pizza\t    real_pizza_voc\t      VOCdevkit\n"
     ]
    }
   ],
   "source": [
    "!ls"
   ]
  },
  {
   "cell_type": "code",
   "execution_count": 3,
   "id": "b0591ba3",
   "metadata": {},
   "outputs": [],
   "source": [
    "p=os.listdir('./real_pizza_voc/pizza_data/JPEGImages')"
   ]
  },
  {
   "cell_type": "code",
   "execution_count": 6,
   "id": "394f8df1",
   "metadata": {},
   "outputs": [
    {
     "data": {
      "text/plain": [
       "'05493.jpg'"
      ]
     },
     "execution_count": 6,
     "metadata": {},
     "output_type": "execute_result"
    }
   ],
   "source": [
    "p[0]"
   ]
  },
  {
   "cell_type": "code",
   "execution_count": 7,
   "id": "b04a7ccb",
   "metadata": {},
   "outputs": [],
   "source": [
    "f=open('labeled_data.txt','w')\n",
    "for i in p:\n",
    "    f.write(i+'\\n')\n",
    "f.close()"
   ]
  },
  {
   "cell_type": "code",
   "execution_count": 8,
   "id": "f720df82",
   "metadata": {},
   "outputs": [],
   "source": [
    "i=os.listdir('/common/users/rc1195/Pizza/xml/realpizza/JPEGImages')"
   ]
  },
  {
   "cell_type": "code",
   "execution_count": 9,
   "id": "a9e467ec",
   "metadata": {},
   "outputs": [
    {
     "data": {
      "text/plain": [
       "5581"
      ]
     },
     "execution_count": 9,
     "metadata": {},
     "output_type": "execute_result"
    }
   ],
   "source": [
    "len(i)"
   ]
  },
  {
   "cell_type": "code",
   "execution_count": 10,
   "id": "e64f5392",
   "metadata": {},
   "outputs": [
    {
     "name": "stdout",
     "output_type": "stream",
     "text": [
      "['06212.jpg', '07452.jpg', '07820.jpg', '04547.jpg', '08952.jpg', '00459.jpg', '05766.jpg', '01678.jpg', '04681.jpg', '08637.jpg', '04650.jpg', '05010.jpg', '09077.jpg', '07745.jpg', '00488.jpg', '05471.jpg', '08983.jpg', '04596.jpg', '04231.jpg', '07483.jpg', '06564.jpg', '06916.jpg', '03703.jpg', '02143.jpg', '01056.jpg', '04708.jpg', '05148.jpg', '02285.jpg', '02522.jpg', '02950.jpg', '00277.jpg', '05529.jpg', '01390.jpg', '04369.jpg', '01845.jpg', '01437.jpg', '08478.jpg', '00973.jpg', '00501.jpg', '03866.jpg', '07978.jpg', '02254.jpg', '00160.jpg', '05199.jpg', '01720.jpg', '02635.jpg', '02192.jpg', '01265.jpg', '04949.jpg', '00382.jpg', '00857.jpg', '03530.jpg', '02370.jpg', '00044.jpg', '01604.jpg', '02711.jpg', '03151.jpg', '03627.jpg', '06179.jpg', '07739.jpg', '02067.jpg', '01172.jpg', '00732.jpg', '00095.jpg', '02874.jpg', '02406.jpg', '06518.jpg', '03993.jpg', '00886.jpg', '01513.jpg', '01961.jpg', '04998.jpg', '06021.jpg', '06786.jpg', '07661.jpg', '02698.jpg', '08372.jpg', '06832.jpg', '06440.jpg', '06491.jpg', '06336.jpg', '02228.jpg', '04811.jpg', '08876.jpg', '08404.jpg', '05584.jpg', '05223.jpg', '02649.jpg', '03009.jpg', '09182.jpg', '04002.jpg', '08065.jpg', '00850.jpg', '00422.jpg', '08929.jpg', '02377.jpg', '03537.jpg', '03945.jpg', '06269.jpg', '01603.jpg', '06608.jpg', '02716.jpg', '07099.jpg', '02060.jpg', '03620.jpg', '00735.jpg', '03994.jpg', '01966.jpg', '05878.jpg', '08714.jpg', '02138.jpg', '03778.jpg', '06026.jpg', '04312.jpg', '05920.jpg', '06447.jpg', '06835.jpg', '02559.jpg', '07207.jpg', '07571.jpg', '06496.jpg', '05224.jpg', '00908.jpg', '04816.jpg', '06750.jpg', '07110.jpg', '04005.jpg', '07827.jpg', '03939.jpg', '05300.jpg', '08280.jpg', '04932.jpg', '06674.jpg', '07793.jpg', '07034.jpg', '04121.jpg', '08146.jpg', '05017.jpg', '00749.jpg', '07742.jpg', '06102.jpg', '04236.jpg', '01568.jpg', '08984.jpg', '04591.jpg', '00328.jpg', '05476.jpg', '05804.jpg', '06911.jpg', '07484.jpg', '02144.jpg', '03704.jpg', '09128.jpg', '02957.jpg', '02525.jpg', '02282.jpg', '08309.jpg', '01430.jpg', '01842.jpg', '01397.jpg', '00270.jpg', '00506.jpg', '02986.jpg', '06898.jpg', '03861.jpg', '00167.jpg', '02195.jpg', '02632.jpg', '03539.jpg', '06267.jpg', '07427.jpg', '02379.jpg', '07380.jpg', '08555.jpg', '04532.jpg', '04295.jpg', '05372.jpg', '07046.jpg', '05713.jpg', '08134.jpg', '08693.jpg', '04625.jpg', '09002.jpg', '06170.jpg', '07097.jpg', '07730.jpg', '05404.jpg', '05876.jpg', '04991.jpg', '08584.jpg', '04244.jpg', '08223.jpg', '07351.jpg', '06511.jpg', '03776.jpg', '07668.jpg', '02136.jpg', '01023.jpg', '00663.jpg', '02557.jpg', '00202.jpg', '01442.jpg', '01830.jpg', '04818.jpg', '00574.jpg', '00906.jpg', '03813.jpg', '02586.jpg', '00115.jpg', '01755.jpg', '08529.jpg', '01210.jpg', '00822.jpg', '00450.jpg', '03545.jpg', '07829.jpg', '02305.jpg', '00796.jpg', '08148.jpg', '01671.jpg', '02764.jpg', '03683.jpg', '03124.jpg', '03652.jpg', '02012.jpg', '01107.jpg', '05019.jpg', '00747.jpg', '02801.jpg', '03594.jpg', '00326.jpg', '00481.jpg', '01914.jpg', '04701.jpg', '08766.jpg', '05520.jpg', '05287.jpg', '04360.jpg', '01399.jpg', '02959.jpg', '07275.jpg', '06435.jpg', '06847.jpg', '06896.jpg', '02988.jpg', '07503.jpg', '07971.jpg', '01348.jpg', '04864.jpg', '04416.jpg', '00508.jpg', '06722.jpg', '05190.jpg', '00169.jpg', '05637.jpg', '04077.jpg', '01729.jpg', '05309.jpg', '00457.jpg', '00825.jpg', '01217.jpg', '04549.jpg', '08289.jpg', '02302.jpg', '03930.jpg', '03542.jpg', '04128.jpg', '00036.jpg', '00791.jpg', '03684.jpg', '02763.jpg', '02015.jpg', '03655.jpg', '09079.jpg', '00740.jpg', '01100.jpg', '03593.jpg', '06918.jpg', '02806.jpg', '04598.jpg', '01561.jpg', '01913.jpg', '08258.jpg', '00486.jpg', '00321.jpg', '09121.jpg', '05146.jpg', '00618.jpg', '01058.jpg', '04367.jpg', '01439.jpg', '08300.jpg', '00279.jpg', '06840.jpg', '06432.jpg', '03868.jpg', '05251.jpg', '08804.jpg', '08476.jpg', '04411.jpg']\n"
     ]
    }
   ],
   "source": [
    "new=[]\n",
    "for j in i:\n",
    "    if j not in p:\n",
    "        new.append(j)\n",
    "    if len(new)==300:\n",
    "        break\n"
   ]
  },
  {
   "cell_type": "code",
   "execution_count": 11,
   "id": "be622a21",
   "metadata": {},
   "outputs": [
    {
     "data": {
      "text/plain": [
       "300"
      ]
     },
     "execution_count": 11,
     "metadata": {},
     "output_type": "execute_result"
    }
   ],
   "source": [
    "len(new)"
   ]
  },
  {
   "cell_type": "code",
   "execution_count": 12,
   "id": "d25223a4",
   "metadata": {},
   "outputs": [],
   "source": [
    "import shutil"
   ]
  },
  {
   "cell_type": "code",
   "execution_count": 14,
   "id": "5210d6d8",
   "metadata": {},
   "outputs": [],
   "source": [
    "r=open('unlabeled_data.txt','w')\n",
    "for n in new:\n",
    "    r.write(n+'\\n')\n",
    "r.close()"
   ]
  },
  {
   "cell_type": "code",
   "execution_count": 15,
   "id": "2b055871",
   "metadata": {},
   "outputs": [],
   "source": [
    "for i in new:\n",
    "    src=f'/common/users/rc1195/Pizza/xml/realpizza/JPEGImages/{i}'\n",
    "    dst=f'./real_pizza_voc/pizza_data/JPEGImages/'\n",
    "    shutil.copy(src,dst)"
   ]
  },
  {
   "cell_type": "code",
   "execution_count": 17,
   "id": "8eec6b68",
   "metadata": {},
   "outputs": [
    {
     "data": {
      "text/plain": [
       "True"
      ]
     },
     "execution_count": 17,
     "metadata": {},
     "output_type": "execute_result"
    }
   ],
   "source": [
    "from os.path import exists\n",
    "file_exists=exists('./real_pizza_voc/pizza_data/JPEGImages/06840.jpg')\n",
    "file_exists"
   ]
  },
  {
   "cell_type": "code",
   "execution_count": 18,
   "id": "8974c30b",
   "metadata": {},
   "outputs": [
    {
     "data": {
      "text/plain": [
       "400"
      ]
     },
     "execution_count": 18,
     "metadata": {},
     "output_type": "execute_result"
    }
   ],
   "source": [
    "pl=os.listdir('./real_pizza_voc/pizza_data/JPEGImages')\n",
    "len(pl)"
   ]
  },
  {
   "cell_type": "code",
   "execution_count": 20,
   "id": "0fa16ee4",
   "metadata": {},
   "outputs": [],
   "source": [
    "new_xml=[]\n",
    "for i in new:\n",
    "    o=i.split('.jpg')[0]+'.xml'\n",
    "    new_xml.append(o)"
   ]
  },
  {
   "cell_type": "code",
   "execution_count": 21,
   "id": "aa00989f",
   "metadata": {},
   "outputs": [],
   "source": [
    "for i in new_xml:\n",
    "    src=f'/common/users/rc1195/Pizza/xml/realpizza/Annotations/{i}'\n",
    "    dst=f'./real_pizza_voc/pizza_data/Annotations/'\n",
    "    shutil.copy(src,dst)"
   ]
  },
  {
   "cell_type": "code",
   "execution_count": 22,
   "id": "ac22f970",
   "metadata": {},
   "outputs": [
    {
     "data": {
      "text/plain": [
       "398"
      ]
     },
     "execution_count": 22,
     "metadata": {},
     "output_type": "execute_result"
    }
   ],
   "source": [
    "pl=os.listdir('./real_pizza_voc/pizza_data/Annotations')\n",
    "len(pl)"
   ]
  },
  {
   "cell_type": "code",
   "execution_count": 23,
   "id": "860cba37",
   "metadata": {},
   "outputs": [
    {
     "data": {
      "text/plain": [
       "300"
      ]
     },
     "execution_count": 23,
     "metadata": {},
     "output_type": "execute_result"
    }
   ],
   "source": [
    "len(new_xml)"
   ]
  },
  {
   "cell_type": "code",
   "execution_count": 24,
   "id": "d3787a57",
   "metadata": {},
   "outputs": [
    {
     "name": "stdout",
     "output_type": "stream",
     "text": [
      "04567.xml\n",
      "01587.xml\n"
     ]
    }
   ],
   "source": [
    "l1=os.listdir('./real_pizza_voc/pizza_data/JPEGImages')\n",
    "l2=os.listdir('./real_pizza_voc/pizza_data/Annotations')\n",
    "for i in l1:\n",
    "    v=i.split('.jpg')[0]+'.xml'\n",
    "    if v not in l2:\n",
    "        print(v)"
   ]
  },
  {
   "cell_type": "code",
   "execution_count": 25,
   "id": "20e425b8",
   "metadata": {},
   "outputs": [
    {
     "name": "stdout",
     "output_type": "stream",
     "text": [
      "/common/users/rc1195/copy/al-mdn/data\r\n"
     ]
    }
   ],
   "source": [
    "!pwd"
   ]
  },
  {
   "cell_type": "code",
   "execution_count": 3,
   "id": "d23cb326",
   "metadata": {},
   "outputs": [],
   "source": [
    "import os\n",
    "import random\n",
    "import glob"
   ]
  },
  {
   "cell_type": "code",
   "execution_count": 17,
   "id": "89d2b30a",
   "metadata": {},
   "outputs": [],
   "source": [
    "trainval_percent=0.9\n",
    "train_percent=0.85\n",
    "xml_filepath='./real_pizza_voc/pizza_data/Annotations'\n",
    "txt_save_path='./real_pizza_voc/pizza_data/ImageSets/Main'\n",
    "total_xml=glob.glob(os.path.join(xml_filepath,'*.xml'))\n",
    "num=len(total_xml)\n",
    "l=range(num)\n",
    "tv=int(num*trainval_percent)\n",
    "tr=int(tv*train_percent)\n",
    "trainval=random.sample(l,tv)\n",
    "train=random.sample(trainval,tr)\n",
    "v=os.path.join(txt_save_path,'test.txt')\n",
    "ftest=open(v,'w')\n",
    "ftrain=open('./real_pizza_voc/pizza_data/ImageSets/Main/train.txt','w')\n",
    "fval=open('./real_pizza_voc/pizza_data/ImageSets/Main/val.txt','w')\n",
    "ftrainval=open('./real_pizza_voc/pizza_data/ImageSets/Main/trainval.txt','w')\n",
    "for i in l:\n",
    "    name=os.path.basename(total_xml[i])[:-4]+'\\n'\n",
    "    if i in trainval:\n",
    "        ftrainval.write(name)\n",
    "        if i in train:\n",
    "            ftrain.write(name)\n",
    "        else:\n",
    "            fval.write(name)\n",
    "    else:\n",
    "        ftest.write(name)\n",
    "ftrainval.close()\n",
    "ftrain.close()\n",
    "fval.close()\n",
    "ftest.close()"
   ]
  },
  {
   "cell_type": "code",
   "execution_count": 20,
   "id": "18363a4b",
   "metadata": {},
   "outputs": [],
   "source": [
    "with open('./real_pizza_voc/labeled_data.txt','r') as f:\n",
    "    t=f.read()\n",
    "    li=t.split('\\n')\n",
    "    f_li=[i.split('.jpg')[0] for i in li]\n",
    "    f_li.pop()\n",
    "    \n",
    "\n",
    "\n",
    "with open('./real_pizza_voc/pizza_data/ImageSets/Main/train.txt','r') as p:\n",
    "    po=p.read()\n",
    "    new_li=po.split('\\n')\n",
    "    f_new_li=[i.split('.jpg')[0] for i in new_li]\n",
    "    f_new_li.pop()"
   ]
  },
  {
   "cell_type": "code",
   "execution_count": 22,
   "id": "4e580dcc",
   "metadata": {},
   "outputs": [
    {
     "data": {
      "text/plain": [
       "340"
      ]
     },
     "execution_count": 22,
     "metadata": {},
     "output_type": "execute_result"
    }
   ],
   "source": [
    "len(f_new_li)"
   ]
  },
  {
   "cell_type": "code",
   "execution_count": 23,
   "id": "b7cc5d88",
   "metadata": {},
   "outputs": [],
   "source": [
    "labeled_set=[]\n",
    "unlabeled_set=[]\n",
    "for i in f_new_li:\n",
    "    if i in f_li:\n",
    "        labeled_set.append(f_new_li.index(i))\n",
    "    else:\n",
    "        unlabeled_set.append(f_new_li.index(i))"
   ]
  },
  {
   "cell_type": "code",
   "execution_count": 24,
   "id": "3f2f835b",
   "metadata": {},
   "outputs": [
    {
     "data": {
      "text/plain": [
       "300"
      ]
     },
     "execution_count": 24,
     "metadata": {},
     "output_type": "execute_result"
    }
   ],
   "source": [
    "len(unlabeled_set)"
   ]
  },
  {
   "cell_type": "code",
   "execution_count": 9,
   "id": "a018700f",
   "metadata": {},
   "outputs": [],
   "source": [
    "with open('./real_pizza_voc/pizza_data/ImageSets/Main/test.txt','r') as p:\n",
    "    po=p.read()\n",
    "    new_li=po.split('\\n')\n",
    "    ts=[i.split('.jpg')[0] for i in new_li]"
   ]
  },
  {
   "cell_type": "code",
   "execution_count": 10,
   "id": "2e6f8524",
   "metadata": {},
   "outputs": [],
   "source": [
    "with open('./real_pizza_voc/pizza_data/ImageSets/Main/val.txt','r') as p:\n",
    "    po=p.read()\n",
    "    new_li=po.split('\\n')\n",
    "    v=[i.split('.jpg')[0] for i in new_li]"
   ]
  },
  {
   "cell_type": "code",
   "execution_count": 13,
   "id": "187768cd",
   "metadata": {},
   "outputs": [
    {
     "name": "stdout",
     "output_type": "stream",
     "text": [
      "\n"
     ]
    }
   ],
   "source": [
    "for i in f_new_li:\n",
    "    if i in v:\n",
    "        print(i)"
   ]
  },
  {
   "cell_type": "code",
   "execution_count": 25,
   "id": "b6ba64d1",
   "metadata": {},
   "outputs": [],
   "source": [
    "#Active learning part\n",
    "# \n",
    "# Get the difference between the previous lebeled set current labeled set: will give the images to annotate\n",
    "# Check for the Annotation folder and len of file should be equal to acquisition budget per cycle\n",
    "# --------- if folder found replace the xmls with the xmls in Annotation folder, delete the folder and continue with next cycle\n",
    "#  -------- if folder not found keep checking the folder at regular time intervals\n"
   ]
  },
  {
   "cell_type": "code",
   "execution_count": 3,
   "id": "06b3fff1",
   "metadata": {},
   "outputs": [
    {
     "name": "stdout",
     "output_type": "stream",
     "text": [
      "Collecting schedule\n",
      "  Downloading schedule-1.1.0-py2.py3-none-any.whl (10 kB)\n",
      "Installing collected packages: schedule\n",
      "Successfully installed schedule-1.1.0\n",
      "Note: you may need to restart the kernel to use updated packages.\n"
     ]
    }
   ],
   "source": [
    "pip install schedule"
   ]
  },
  {
   "cell_type": "code",
   "execution_count": 4,
   "id": "fc51899d",
   "metadata": {},
   "outputs": [],
   "source": [
    "from os.path import exists\n",
    "import schedule \n",
    "import time"
   ]
  },
  {
   "cell_type": "code",
   "execution_count": 14,
   "id": "ef3d97fa",
   "metadata": {},
   "outputs": [],
   "source": [
    "def update_labels():\n",
    "    if exists('./real_pizza_voc/pizza_data/updated_anno'):\n",
    "        files=os.listdir('./real_pizza_voc/pizza_data/upated_anno')\n",
    "        src='./real_pizza_voc/pizza_data/upated_anno'\n",
    "        target='./real_pizza_voc/pizza_data/Annotations'\n",
    "        for file in files:\n",
    "            shutil.copy2(os.path.join(src,file),target)\n",
    "        shutil.rmtree(src)\n",
    "        return False\n",
    "\n",
    "    return True\n",
    "\n",
    "        \n",
    "\n"
   ]
  },
  {
   "cell_type": "code",
   "execution_count": 16,
   "id": "31526e47",
   "metadata": {},
   "outputs": [
    {
     "name": "stdout",
     "output_type": "stream",
     "text": [
      "okay\n",
      "okay\n"
     ]
    }
   ],
   "source": [
    "while update_labels():\n",
    "    print('okay')\n",
    "    time.sleep(120) "
   ]
  },
  {
   "cell_type": "code",
   "execution_count": 2,
   "id": "9654da4c",
   "metadata": {},
   "outputs": [
    {
     "name": "stdout",
     "output_type": "stream",
     "text": [
      "/common/users/rc1195/copy/al-mdn/data\n"
     ]
    }
   ],
   "source": [
    "!pwd"
   ]
  },
  {
   "cell_type": "code",
   "execution_count": null,
   "id": "ae1ca4cd",
   "metadata": {},
   "outputs": [],
   "source": []
  }
 ],
 "metadata": {
  "interpreter": {
   "hash": "1d4709980917c9bb41c7d5a84fa40db8b8a6d144fd163bcc88b9cc273e255320"
  },
  "kernelspec": {
   "display_name": "Python 3.6.13",
   "language": "python",
   "name": "python3"
  },
  "language_info": {
   "codemirror_mode": {
    "name": "ipython",
    "version": 3
   },
   "file_extension": ".py",
   "mimetype": "text/x-python",
   "name": "python",
   "nbconvert_exporter": "python",
   "pygments_lexer": "ipython3",
   "version": "3.6.13"
  }
 },
 "nbformat": 4,
 "nbformat_minor": 5
}
